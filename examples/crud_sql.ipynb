{
 "cells": [
  {
   "cell_type": "code",
   "execution_count": null,
   "metadata": {},
   "outputs": [],
   "source": [
    "import requests\n",
    "\n",
    "# Define the base URL\n",
    "base_url = \"http://localhost:8000/users\"\n",
    "\n",
    "# 1. Create a user\n",
    "user_data = {\n",
    "    \"email\": \"test@example.com\",\n",
    "    \"password\": \"password123\",\n",
    "    \"is_admin\": False\n",
    "}\n",
    "response = requests.post(base_url, json=user_data)\n",
    "print(\"Create User Response:\", response.json())\n",
    "\n",
    "# 2. Get all users\n",
    "response = requests.get(base_url)\n",
    "print(\"Get All Users Response:\", response.json())\n",
    "\n",
    "# 3. Get a specific user by ID (replace {user_id} with actual ID)\n",
    "user_id = 1\n",
    "response = requests.get(f\"{base_url}/{user_id}\")\n",
    "print(\"Get User by ID Response:\", response.json())\n",
    "\n",
    "# 4. Update a user by ID (replace {user_id} with actual ID)\n",
    "user_id = 1\n",
    "updated_data = {\n",
    "    \"email\": \"updated@example.com\",\n",
    "    \"password\": \"newpassword456\",\n",
    "    \"is_admin\": True\n",
    "}\n",
    "response = requests.put(f\"{base_url}/{user_id}\", json=updated_data)\n",
    "print(\"Update User Response:\", response.json())\n",
    "\n",
    "# 5. Patch a user by ID (replace {user_id} with actual ID)\n",
    "user_id = 1\n",
    "patched_data = {\n",
    "    \"email\": \"patched@example.com\"\n",
    "}\n",
    "response = requests.patch(f\"{base_url}/{user_id}\", json=patched_data)\n",
    "print(\"Patch User Response:\", response.json())\n",
    "\n",
    "# 6. Delete a user by ID (replace {user_id} with actual ID)\n",
    "user_id = 1\n",
    "response = requests.delete(f\"{base_url}/{user_id}\")\n",
    "print(\"Delete User Response:\", response.json())"
   ]
  }
 ],
 "metadata": {
  "language_info": {
   "name": "python"
  }
 },
 "nbformat": 4,
 "nbformat_minor": 2
}
