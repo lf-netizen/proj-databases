{
 "cells": [
  {
   "cell_type": "code",
   "execution_count": 2,
   "metadata": {},
   "outputs": [],
   "source": [
    "import pandas as pd\n",
    "\n",
    "\n",
    "# data.head()"
   ]
  },
  {
   "cell_type": "markdown",
   "metadata": {},
   "source": [
    "## ADB"
   ]
  },
  {
   "cell_type": "code",
   "execution_count": 4,
   "metadata": {},
   "outputs": [
    {
     "data": {
      "text/plain": [
       "{'username': 'TestA',\n",
       " 'password': '$2b$12$meniORIUdo8SfneabgfLo.viBtenQXJN1GWvZNlaFYgZSOgjQIKMW',\n",
       " 'address_id': None,\n",
       " 'id': 3,\n",
       " 'is_admin': True,\n",
       " 'cart_id': None}"
      ]
     },
     "execution_count": 4,
     "metadata": {},
     "output_type": "execute_result"
    }
   ],
   "source": [
    "import requests\n",
    "base_url = \"http://127.0.0.1:8000/users\"\n",
    "\n",
    "def create_user(username, password, is_admin=False):\n",
    "    user_data = {\n",
    "        \"username\": username,\n",
    "        \"password\": password,\n",
    "        \"is_admin\": is_admin\n",
    "    }\n",
    "    response = requests.post(base_url, json=user_data)\n",
    "    return response.json()\n",
    "\n",
    "\n",
    "create_user('TestA','$2b$12$meniORIUdo8SfneabgfLo.viBtenQXJN1GWvZNlaFYgZSOgjQIKMW',1)"
   ]
  },
  {
   "cell_type": "code",
   "execution_count": 3,
   "metadata": {},
   "outputs": [],
   "source": [
    "\n"
   ]
  },
  {
   "cell_type": "code",
   "execution_count": 4,
   "metadata": {},
   "outputs": [
    {
     "name": "stdout",
     "output_type": "stream",
     "text": [
      "[{'id': 1012, 'is_admin': False, 'cart_id': None, 'password': '$2b$12$uyZTDAQqSQ7PaN8MQNrRjOue/e6H5IKLc73G8AGoTEuSr//GrPiaG', 'username': 'Barto1900', 'address_id': None}]\n"
     ]
    }
   ],
   "source": [
    "#how to get \n",
    "import requests\n",
    "base_url = \"http://localhost:8000/users\"\n",
    "response = requests.get(base_url, params={\"username\": \"Barto1900\"})\n",
    "print(response.json())"
   ]
  },
  {
   "cell_type": "code",
   "execution_count": 1,
   "metadata": {},
   "outputs": [
    {
     "name": "stdout",
     "output_type": "stream",
     "text": [
      "Rejestracja użytkownika: {'message': 'User registered successfully.'}\n"
     ]
    }
   ],
   "source": [
    "import requests\n",
    "\n",
    "# URL serwera FastAPI\n",
    "base_url = \"http://localhost:8001\"\n",
    "\n",
    "# Dane użytkownika do rejestracji\n",
    "user_data = {\n",
    "    \"username\": \"ABC\",\n",
    "    \"password\": \"ZAQ!@WSXCDE#\",\n",
    "    \"is_admin\": True\n",
    "}\n",
    "\n",
    "# Rejestrowanie użytkownika\n",
    "response = requests.post(f\"{base_url}/register/\", json=user_data)\n",
    "print(\"Rejestracja użytkownika:\", response.json())"
   ]
  },
  {
   "cell_type": "code",
   "execution_count": 3,
   "metadata": {},
   "outputs": [
    {
     "name": "stdout",
     "output_type": "stream",
     "text": [
      "Logowanie użytkownika: {'message': 'Login successful', 'is_admin': True}\n"
     ]
    }
   ],
   "source": [
    "import requests\n",
    "\n",
    "# URL serwera FastAPI\n",
    "base_url = \"http://localhost:8001\"\n",
    "login_data = {\n",
    "    \"username\": \"ABC\",\n",
    "    \"password\": \"ZAQ!@WSXCDE#\"\n",
    "}\n",
    "\n",
    "# Logowanie użytkownika\n",
    "response = requests.post(f\"{base_url}/login/\", json=login_data)\n",
    "print(\"Logowanie użytkownika:\", response.json())"
   ]
  }
 ],
 "metadata": {
  "kernelspec": {
   "display_name": ".venv",
   "language": "python",
   "name": "python3"
  },
  "language_info": {
   "codemirror_mode": {
    "name": "ipython",
    "version": 3
   },
   "file_extension": ".py",
   "mimetype": "text/x-python",
   "name": "python",
   "nbconvert_exporter": "python",
   "pygments_lexer": "ipython3",
   "version": "3.11.2"
  }
 },
 "nbformat": 4,
 "nbformat_minor": 2
}
