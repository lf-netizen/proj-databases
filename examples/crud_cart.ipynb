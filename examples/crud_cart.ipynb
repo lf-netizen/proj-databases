{
 "cells": [
  {
   "cell_type": "code",
   "execution_count": 1,
   "metadata": {},
   "outputs": [],
   "source": [
    "import requests"
   ]
  },
  {
   "cell_type": "markdown",
   "metadata": {},
   "source": [
    "Create example user (only for user id)"
   ]
  },
  {
   "cell_type": "code",
   "execution_count": 2,
   "metadata": {},
   "outputs": [
    {
     "name": "stdout",
     "output_type": "stream",
     "text": [
      "Create User Response: {'password': 'password123', 'username': 'test@example.com', 'address_id': None, 'id': 3, 'is_admin': False, 'cart_id': None}\n"
     ]
    },
    {
     "data": {
      "text/plain": [
       "3"
      ]
     },
     "execution_count": 2,
     "metadata": {},
     "output_type": "execute_result"
    }
   ],
   "source": [
    "import requests\n",
    "\n",
    "# Define the base URL\n",
    "base_url = \"http://localhost:8000/users\"\n",
    "\n",
    "# 1. Create a user\n",
    "user_data = {\n",
    "    \"username\": \"test@example.com\",\n",
    "    \"password\": \"password123\",\n",
    "    \"is_admin\": False\n",
    "}\n",
    "response = requests.post(base_url, json=user_data)\n",
    "print(\"Create User Response:\", response.json())\n",
    "\n",
    "user_id = response.json()['id']\n",
    "user_id"
   ]
  },
  {
   "cell_type": "code",
   "execution_count": 3,
   "metadata": {},
   "outputs": [],
   "source": [
    "base_url = f\"http://localhost:8000/users/{user_id}/cart/items\""
   ]
  },
  {
   "cell_type": "code",
   "execution_count": 4,
   "metadata": {},
   "outputs": [],
   "source": [
    "item_data = dict(\n",
    "    product_id=\"some id\",\n",
    "    quantity=1,\n",
    ")"
   ]
  },
  {
   "cell_type": "code",
   "execution_count": 9,
   "metadata": {},
   "outputs": [
    {
     "name": "stdout",
     "output_type": "stream",
     "text": [
      "Create Cart Item Response: {'quantity': 1, 'product_id': 'some id', 'id': 4, 'cart_id': 2}\n"
     ]
    }
   ],
   "source": [
    "response = requests.post(base_url, json=item_data)\n",
    "print(\"Create Cart Item Response:\", response.json())"
   ]
  },
  {
   "cell_type": "markdown",
   "metadata": {},
   "source": [
    "If user does not have a cart, create a cart first"
   ]
  },
  {
   "cell_type": "code",
   "execution_count": 6,
   "metadata": {},
   "outputs": [
    {
     "name": "stdout",
     "output_type": "stream",
     "text": [
      "Create User Cart Response: {'id': 2}\n"
     ]
    }
   ],
   "source": [
    "response = requests.post(f\"http://localhost:8000/users/{user_id}/cart\", json={})\n",
    "print(\"Create User Cart Response:\", response.json())"
   ]
  }
 ],
 "metadata": {
  "kernelspec": {
   "display_name": "sys-rozp",
   "language": "python",
   "name": "python3"
  },
  "language_info": {
   "codemirror_mode": {
    "name": "ipython",
    "version": 3
   },
   "file_extension": ".py",
   "mimetype": "text/x-python",
   "name": "python",
   "nbconvert_exporter": "python",
   "pygments_lexer": "ipython3",
   "version": "3.10.14"
  }
 },
 "nbformat": 4,
 "nbformat_minor": 2
}
