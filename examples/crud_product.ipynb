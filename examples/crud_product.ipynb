{
 "cells": [
  {
   "cell_type": "code",
   "execution_count": 1,
   "metadata": {},
   "outputs": [],
   "source": [
    "import nanoid\n",
    "import aiohttp\n",
    "import requests"
   ]
  },
  {
   "cell_type": "code",
   "execution_count": 2,
   "metadata": {},
   "outputs": [],
   "source": [
    "base_url = \"http://127.0.0.1:8000\""
   ]
  },
  {
   "cell_type": "code",
   "execution_count": null,
   "metadata": {},
   "outputs": [],
   "source": [
    "product_id = nanoid.generate(size=10)"
   ]
  },
  {
   "cell_type": "code",
   "execution_count": null,
   "metadata": {},
   "outputs": [],
   "source": []
  },
  {
   "cell_type": "code",
   "execution_count": null,
   "metadata": {},
   "outputs": [
    {
     "name": "stdout",
     "output_type": "stream",
     "text": [
      "{'id': 'kGmDX16ks0', 'name': 'Test Product', 'price': 9.99, 'quantity': 10, 'description': 'This is a test product', 'category': 'Test Category', 'tags': ['tag1', 'tag2']}\n",
      "[{'id': 'kGmDX16ks0', 'name': 'Test Product', 'price': 9.99, 'quantity': 10, 'description': 'This is a test product', 'category': 'Test Category', 'tags': ['tag1', 'tag2']}]\n",
      "[]\n",
      "[{'id': 'kGmDX16ks0', 'name': 'Test Product', 'price': 9.99, 'quantity': 10, 'description': 'This is a test product', 'category': 'Test Category', 'tags': ['tag1', 'tag2']}]\n",
      "{'id': 'kGmDX16ks0', 'name': 'Test Product', 'price': 9.99, 'quantity': 10, 'description': 'This is a test product', 'category': 'Test Category', 'tags': ['tag1', 'tag2']}\n",
      "{'id': 'kGmDX16ks0', 'name': 'Updated Test Product', 'price': 19.99, 'quantity': 20, 'description': 'This is an updated test product', 'category': 'Updated Test Category', 'tags': ['tag1', 'tag2', 'tag3']}\n",
      "{'name': 'Patched Product', 'price': 29.99, 'quantity': None, 'description': None, 'category': None, 'tags': None}\n",
      "{'message': 'Product deleted successfully'}\n"
     ]
    }
   ],
   "source": [
    "# POST /products/ endpoint\n",
    "def create_product():\n",
    "    product_data = {\n",
    "        \"id\": product_id, # optional, but included for request consistency\n",
    "        \"name\": \"Test Product\",\n",
    "        \"price\": 9.99,\n",
    "        \"quantity\": 10,\n",
    "        \"description\": \"This is a test product\",\n",
    "        \"category\": \"Test Category\",\n",
    "        \"tags\": [\"tag1\", \"tag2\"]\n",
    "    }\n",
    "    response = requests.post(f\"{base_url}/products/\", json=product_data)\n",
    "    print(response.json())\n",
    "\n",
    "# GET /products/ endpoint\n",
    "def get_all_products():\n",
    "    response = requests.get(f\"{base_url}/products/\")\n",
    "    print(response.json())\n",
    "\n",
    "def get_all_products_filtered_1():\n",
    "    params = {\"category\": \"Not A Test Category\"}\n",
    "    response = requests.get(f\"{base_url}/products/\", params=params)\n",
    "    print(response.json())\n",
    "\n",
    "def get_all_products_filtered_2():\n",
    "    params = {\"category\": \"Test Category\", \"tags\": [\"tag1\", \"tag3\"]}\n",
    "    response = requests.get(f\"{base_url}/products/\", params=params)\n",
    "    print(response.json())\n",
    "\n",
    "# GET /products/{product_id} endpoint\n",
    "def get_product():\n",
    "    response = requests.get(f\"{base_url}/products/{product_id}\")\n",
    "    print(response.json())\n",
    "\n",
    "# PUT /products/{product_id} endpoint\n",
    "def update_product():\n",
    "    product_data = {\n",
    "        \"name\": \"Updated Test Product\",\n",
    "        \"price\": 19.99,\n",
    "        \"quantity\": 20,\n",
    "        \"description\": \"This is an updated test product\",\n",
    "        \"category\": \"Updated Test Category\",\n",
    "        \"tags\": [\"tag1\", \"tag2\", \"tag3\"]\n",
    "    }\n",
    "    response = requests.put(f\"{base_url}/products/{product_id}\", json=product_data)\n",
    "    print(response.json())\n",
    "\n",
    "# PATCH /products/{product_id} endpoint\n",
    "def patch_product():\n",
    "    product_data = {\n",
    "        \"name\": \"Patched Product\",\n",
    "        \"price\": 29.99\n",
    "    }\n",
    "    response = requests.patch(f\"{base_url}/products/{product_id}\", json=product_data)\n",
    "    print(response.json())\n",
    "\n",
    "# DELETE /products/{product_id} endpoint\n",
    "def delete_product():\n",
    "    response = requests.delete(f\"{base_url}/products/{product_id}\")\n",
    "    print(response.json())\n",
    "\n",
    "\n",
    "create_product()\n",
    "get_all_products()\n",
    "get_all_products_filtered_1()\n",
    "get_all_products_filtered_2()\n",
    "get_product()\n",
    "update_product()\n",
    "patch_product()\n",
    "delete_product()"
   ]
  },
  {
   "cell_type": "code",
   "execution_count": null,
   "metadata": {},
   "outputs": [
    {
     "name": "stdout",
     "output_type": "stream",
     "text": [
      "{'id': 'kGmDX16ks0', 'name': 'Test Product', 'price': 9.99, 'quantity': 10, 'description': 'This is a test product', 'category': 'Test Category', 'tags': ['tag1', 'tag2']}\n"
     ]
    },
    {
     "name": "stdout",
     "output_type": "stream",
     "text": [
      "[{'id': 'kGmDX16ks0', 'name': 'Test Product', 'price': 9.99, 'quantity': 10, 'description': 'This is a test product', 'category': 'Test Category', 'tags': ['tag1', 'tag2']}]\n",
      "[]\n",
      "[{'id': 'kGmDX16ks0', 'name': 'Test Product', 'price': 9.99, 'quantity': 10, 'description': 'This is a test product', 'category': 'Test Category', 'tags': ['tag1', 'tag2']}]\n",
      "{'id': 'kGmDX16ks0', 'name': 'Test Product', 'price': 9.99, 'quantity': 10, 'description': 'This is a test product', 'category': 'Test Category', 'tags': ['tag1', 'tag2']}\n",
      "{'id': 'kGmDX16ks0', 'name': 'Updated Test Product', 'price': 19.99, 'quantity': 20, 'description': 'This is an updated test product', 'category': 'Updated Test Category', 'tags': ['tag1', 'tag2', 'tag3']}\n",
      "{'name': 'Patched Product', 'price': 29.99, 'quantity': None, 'description': None, 'category': None, 'tags': None}\n",
      "{'message': 'Product deleted successfully'}\n"
     ]
    }
   ],
   "source": [
    "async def create_product():\n",
    "    product_data = {\n",
    "        \"id\": product_id,\n",
    "        \"name\": \"Test Product\",\n",
    "        \"price\": 9.99,\n",
    "        \"quantity\": 10,\n",
    "        \"description\": \"This is a test product\",\n",
    "        \"category\": \"Test Category\",\n",
    "        \"tags\": [\"tag1\", \"tag2\"]\n",
    "    }\n",
    "    async with aiohttp.ClientSession() as session:\n",
    "        async with session.post(f\"{base_url}/products/\", json=product_data) as response:\n",
    "            print(await response.json())\n",
    "\n",
    "async def get_all_products():\n",
    "    async with aiohttp.ClientSession() as session:\n",
    "        async with session.get(f\"{base_url}/products/\") as response:\n",
    "            print(await response.json())\n",
    "\n",
    "async def get_all_products_filtered_1():\n",
    "    params = {\"category\": \"Not A Test Category\"}\n",
    "    async with aiohttp.ClientSession() as session:\n",
    "        async with session.get(f\"{base_url}/products/\", params=params) as response:\n",
    "            print(await response.json())\n",
    "\n",
    "async def get_all_products_filtered_2():\n",
    "    params = {\"category\": \"Test Category\", \"tags\": [\"tag1\", \"tag3\"]}\n",
    "    async with aiohttp.ClientSession() as session:\n",
    "        async with session.get(f\"{base_url}/products/\", params=params) as response:\n",
    "            print(await response.json())\n",
    "\n",
    "async def get_product():\n",
    "    async with aiohttp.ClientSession() as session:\n",
    "        async with session.get(f\"{base_url}/products/{product_id}\") as response:\n",
    "            print(await response.json())\n",
    "\n",
    "async def update_product():\n",
    "    product_data = {\n",
    "        \"name\": \"Updated Test Product\",\n",
    "        \"price\": 19.99,\n",
    "        \"quantity\": 20,\n",
    "        \"description\": \"This is an updated test product\",\n",
    "        \"category\": \"Updated Test Category\",\n",
    "        \"tags\": [\"tag1\", \"tag2\", \"tag3\"]\n",
    "    }\n",
    "    async with aiohttp.ClientSession() as session:\n",
    "        async with session.put(f\"{base_url}/products/{product_id}\", json=product_data) as response:\n",
    "            print(await response.json())\n",
    "\n",
    "async def patch_product():\n",
    "    product_data = {\n",
    "        \"name\": \"Patched Product\",\n",
    "        \"price\": 29.99\n",
    "    }\n",
    "    async with aiohttp.ClientSession() as session:\n",
    "        async with session.patch(f\"{base_url}/products/{product_id}\", json=product_data) as response:\n",
    "            print(await response.json())\n",
    "\n",
    "async def delete_product():\n",
    "    async with aiohttp.ClientSession() as session:\n",
    "        async with session.delete(f\"{base_url}/products/{product_id}\") as response:\n",
    "            print(await response.json())\n",
    "\n",
    "await create_product()\n",
    "await get_all_products()\n",
    "await get_all_products_filtered_1()\n",
    "await get_all_products_filtered_2()\n",
    "await get_product()\n",
    "await update_product()\n",
    "await patch_product()\n",
    "await delete_product()"
   ]
  },
  {
   "cell_type": "code",
   "execution_count": 5,
   "metadata": {},
   "outputs": [
    {
     "name": "stdout",
     "output_type": "stream",
     "text": [
      "[{'id': 'bartosz', 'name': 'bartosz', 'description': 'bartosz', 'sale_price': 1.0, 'quantity': 1, 'buy_price': 1.0, 'date': 'bartosz', 'picture_path': 'bartosz'}, {'id': '_i-D_HJoNm', 'name': 'asd', 'description': 'asd', 'sale_price': 123.0, 'quantity': 123, 'buy_price': 123.0, 'date': 'asd', 'picture_path': 'default_path'}, {'id': 'Ne5gujv-2m', 'name': 'asd2', 'description': 'asd', 'sale_price': 123.0, 'quantity': 123, 'buy_price': 123.0, 'date': 'asd', 'picture_path': 'default_path'}, {'id': 'A42SWH_0Lh', 'name': 'asd3', 'description': 'asd', 'sale_price': 123.0, 'quantity': 123, 'buy_price': 123.0, 'date': 'asd', 'picture_path': 'default_path'}, {'id': 'K3Zynjzbvh', 'name': 'asd', 'description': 'asd', 'sale_price': 123.0, 'quantity': 123, 'buy_price': 123.0, 'date': 'asd', 'picture_path': 'default_path'}, {'id': '2jCQR7eMB-', 'name': 'asd11111', 'description': 'asd', 'sale_price': 123.0, 'quantity': 123, 'buy_price': 123.0, 'date': 'asd', 'picture_path': 'default_path'}, {'id': 'LoE_2YDIA7', 'name': 'asd7777777', 'description': 'asd', 'sale_price': 0.01, 'quantity': 1, 'buy_price': 0.03, 'date': 'asd', 'picture_path': 'default_path'}, {'id': 'h-khEfBMt2', 'name': 'test', 'description': 'test', 'sale_price': 100.0, 'quantity': 10, 'buy_price': 200.0, 'date': 'asd', 'picture_path': 'default_path'}, {'id': 'kmHPTES0Rd', 'name': 'qwe', 'description': 'qwe', 'sale_price': 12.0, 'quantity': 12, 'buy_price': 12.0, 'date': 'asd', 'picture_path': 'default_path'}, {'id': 'PfY1GYZxMS', 'name': 'asdaaa', 'description': 'asd', 'sale_price': 123.0, 'quantity': 123, 'buy_price': 123.0, 'date': 'up to dane', 'picture_path': 'uploads/IMG_0423.JPG'}, {'id': 'j-wO63MQ-W', 'name': 'asdaaa', 'description': 'asd', 'sale_price': 123.0, 'quantity': 123, 'buy_price': 123.0, 'date': 'up to dane', 'picture_path': 'uploads/IMG_0423.JPG'}, {'id': 'iLgzW6hM5H', 'name': 'asd', 'description': 'asd', 'sale_price': 123.0, 'quantity': 123, 'buy_price': 123.0, 'date': 'up to dane', 'picture_path': 'file_location'}, {'id': 'DmkclSkI91', 'name': 'asd', 'description': 'asd', 'sale_price': 123.0, 'quantity': 123, 'buy_price': 123.0, 'date': 'up to dane', 'picture_path': 'file_location'}, {'id': 'ls1174k-RF', 'name': 'asd', 'description': 'asd', 'sale_price': 123.0, 'quantity': 123, 'buy_price': 123.0, 'date': 'up to dane', 'picture_path': 'file_location'}, {'id': 'j8hykZ7w2s', 'name': 'asd', 'description': 'asd', 'sale_price': 123.0, 'quantity': 123, 'buy_price': 123.0, 'date': 'up to dane', 'picture_path': '66570dfe1d535d86c4bf073d'}, {'id': 'DRnJ0_IXej', 'name': 'asd', 'description': 'asd', 'sale_price': 123.0, 'quantity': 123, 'buy_price': 123.0, 'date': 'up to dane', 'picture_path': '66570e001d535d86c4bf0754'}, {'id': 'ZVvTUt1e4h', 'name': 'asd', 'description': 'asd', 'sale_price': 123.0, 'quantity': 123, 'buy_price': 123.0, 'date': 'up to dane', 'picture_path': '66570e141d535d86c4bf076b'}, {'id': 'krUR1T1f_S', 'name': 'SUPER BUTY', 'description': 'asd', 'sale_price': 12322.0, 'quantity': 123, 'buy_price': 123.0, 'date': 'up to dane', 'picture_path': '66570e401d535d86c4bf0782'}, {'id': '2DTcBVSc8E', 'name': 'SUPER BUTY 2', 'description': 'asd', 'sale_price': 12322.0, 'quantity': 123, 'buy_price': 123.0, 'date': 'up to dane', 'picture_path': '66570f291d535d86c4bf0795'}, {'id': 'S18HEC51iC', 'name': 'ADAMA BUTY', 'description': 'ASDASDASDASD', 'sale_price': 0.01, 'quantity': 1, 'buy_price': 0.01, 'date': 'up to dane', 'picture_path': '66570f491d535d86c4bf07a8'}]\n"
     ]
    }
   ],
   "source": [
    "async def get_all_products():\n",
    "    async with aiohttp.ClientSession() as session:\n",
    "        async with session.get(f\"{base_url}/products/\") as response:\n",
    "            print(await response.json())\n",
    "\n",
    "await get_all_products()\n"
   ]
  }
 ],
 "metadata": {
  "kernelspec": {
   "display_name": ".venv",
   "language": "python",
   "name": "python3"
  },
  "language_info": {
   "codemirror_mode": {
    "name": "ipython",
    "version": 3
   },
   "file_extension": ".py",
   "mimetype": "text/x-python",
   "name": "python",
   "nbconvert_exporter": "python",
   "pygments_lexer": "ipython3",
   "version": "3.11.2"
  }
 },
 "nbformat": 4,
 "nbformat_minor": 2
}
